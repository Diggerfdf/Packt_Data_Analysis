{
 "cells": [
  {
   "cell_type": "markdown",
   "metadata": {},
   "source": [
    "# 3.1 Coin flips"
   ]
  },
  {
   "cell_type": "code",
   "execution_count": 1,
   "metadata": {},
   "outputs": [],
   "source": [
    "import numpy as np"
   ]
  },
  {
   "cell_type": "code",
   "execution_count": 2,
   "metadata": {},
   "outputs": [
    {
     "data": {
      "text/plain": [
       "array([0])"
      ]
     },
     "execution_count": 2,
     "metadata": {},
     "output_type": "execute_result"
    }
   ],
   "source": [
    "# Throwing a coin 1 time: 0 is tail, 1 heads\n",
    "np.random.randint(low = 0, high = 2, size = 1)"
   ]
  },
  {
   "cell_type": "code",
   "execution_count": 4,
   "metadata": {},
   "outputs": [
    {
     "name": "stdout",
     "output_type": "stream",
     "text": [
      "[1 1 0 1 1 1 0 0 0 0]\n",
      "5\n"
     ]
    }
   ],
   "source": [
    "# Throwing a coin 10 times: 0 is tail, 1 heads\n",
    "experiment = np.random.randint(0, 2, size = 10)\n",
    "print(experiment)\n",
    "print(experiment.sum())"
   ]
  },
  {
   "cell_type": "code",
   "execution_count": 5,
   "metadata": {},
   "outputs": [
    {
     "data": {
      "text/plain": [
       "array([[0, 0, 0, 0, 1, 0, 0, 1, 1, 1],\n",
       "       [0, 1, 1, 0, 0, 0, 0, 0, 0, 0],\n",
       "       [1, 1, 0, 1, 1, 1, 0, 0, 0, 1],\n",
       "       [0, 1, 1, 0, 0, 1, 0, 1, 0, 0],\n",
       "       [1, 0, 1, 1, 1, 1, 1, 0, 1, 0]])"
      ]
     },
     "execution_count": 5,
     "metadata": {},
     "output_type": "execute_result"
    }
   ],
   "source": [
    "# Each column of this matrix will be noe 10-tosses simulation\n",
    "coin_matrix = np.random.randint(0, 2, size = (10000, 10))\n",
    "coin_matrix[:5, :]"
   ]
  },
  {
   "cell_type": "code",
   "execution_count": 6,
   "metadata": {},
   "outputs": [
    {
     "name": "stdout",
     "output_type": "stream",
     "text": [
      "[4 2 6 4 7 5 4 6 4 8 3 4 3 3 8 5 4 4 6 4 3 2 7 8 8]\n",
      "5.01\n",
      "5.0\n",
      "0 10\n",
      "1.5839507568103246\n"
     ]
    }
   ],
   "source": [
    "counts = coin_matrix.sum(axis = 1)\n",
    "print(counts[:25])\n",
    "print(counts.mean())\n",
    "print(np.median(counts))\n",
    "print(counts.min(), counts.max())\n",
    "print(counts.std())"
   ]
  },
  {
   "cell_type": "code",
   "execution_count": 9,
   "metadata": {},
   "outputs": [
    {
     "data": {
      "text/plain": [
       "array([   5,   98,  426, 1182, 2096, 2398, 1997, 1244,  458,   84,   12])"
      ]
     },
     "execution_count": 9,
     "metadata": {},
     "output_type": "execute_result"
    }
   ],
   "source": [
    "np.bincount(counts)"
   ]
  },
  {
   "cell_type": "code",
   "execution_count": 10,
   "metadata": {},
   "outputs": [
    {
     "name": "stdout",
     "output_type": "stream",
     "text": [
      "====================\n",
      "\n",
      "0 heads observed 5 times (0.2%)\n",
      "1 heads observed 98 times (4.9%)\n",
      "2 heads observed 426 times (21.3%)\n",
      "3 heads observed 1182 times (59.1%)\n",
      "4 heads observed 2096 times (104.8%)\n",
      "5 heads observed 2398 times (119.9%)\n",
      "6 heads observed 1997 times (99.8%)\n",
      "7 heads observed 1244 times (62.2%)\n",
      "8 heads observed 458 times (22.9%)\n",
      "9 heads observed 84 times (4.2%)\n",
      "10 heads observed 12 times (0.6%)\n"
     ]
    }
   ],
   "source": [
    "unique_numbers = np.arange(0, 11) # The numbers that where observed in the counts vector\n",
    "observed_times = np.bincount(counts) # Check out the documentation for the np.bincount function\n",
    "print(\"=\" * 20 + \"\\n\")\n",
    "for n, count in zip(unique_numbers, observed_times): \n",
    "    print(\"{} heads observed {} times ({:0.1f}%)\".format(n, count, 100 * count/2000))"
   ]
  },
  {
   "cell_type": "markdown",
   "metadata": {},
   "source": [
    "# 3.2 Simulating Stock Returns"
   ]
  },
  {
   "cell_type": "code",
   "execution_count": 29,
   "metadata": {},
   "outputs": [],
   "source": [
    "import matplotlib.pyplot as plt\n",
    "%matplotlib inline"
   ]
  },
  {
   "cell_type": "code",
   "execution_count": 30,
   "metadata": {},
   "outputs": [],
   "source": [
    "returns = np.random.normal(0.001, 0.02, 250)"
   ]
  },
  {
   "cell_type": "code",
   "execution_count": 31,
   "metadata": {},
   "outputs": [
    {
     "data": {
      "text/plain": [
       "array([-0.00375954, -0.0115354 ,  0.00660343, -0.02721686,  0.02547661,\n",
       "       -0.00723709, -0.02188505, -0.00411452,  0.04825267, -0.00972949,\n",
       "        0.01965162, -0.00732939, -0.00076151, -0.01655302,  0.01157667,\n",
       "       -0.00948879,  0.0385358 , -0.0009636 , -0.02032825,  0.0185859 ])"
      ]
     },
     "execution_count": 31,
     "metadata": {},
     "output_type": "execute_result"
    }
   ],
   "source": [
    "returns[:20]"
   ]
  },
  {
   "cell_type": "code",
   "execution_count": 32,
   "metadata": {},
   "outputs": [],
   "source": [
    "initial_price = 100"
   ]
  },
  {
   "cell_type": "code",
   "execution_count": 33,
   "metadata": {},
   "outputs": [],
   "source": [
    "price = 100 * np.exp(returns.cumsum())"
   ]
  },
  {
   "cell_type": "code",
   "execution_count": 34,
   "metadata": {},
   "outputs": [
    {
     "data": {
      "image/png": "[encoded data removed]",
      "text/plain": [
       "<Figure size 432x288 with 1 Axes>"
      ]
     },
     "metadata": {
      "needs_background": "light"
     },
     "output_type": "display_data"
    }
   ],
   "source": [
    "plt.plot(price)\n",
    "plt.grid();"
   ]
  },
  {
   "cell_type": "code",
   "execution_count": 39,
   "metadata": {},
   "outputs": [
    {
     "data": {
      "image/png": "[encoded data removed]",
      "text/plain": [
       "<Figure size 432x288 with 1 Axes>"
      ]
     },
     "metadata": {
      "needs_background": "light"
     },
     "output_type": "display_data"
    }
   ],
   "source": [
    "returns = np.random.normal(0.001, 0.02, 250)\n",
    "initial_price = 100\n",
    "price = 100 * np.exp(returns.cumsum())\n",
    "plt.plot(price)\n",
    "plt.grid();"
   ]
  }
 ],
 "metadata": {
  "kernelspec": {
   "display_name": "Python 3",
   "language": "python",
   "name": "python3"
  },
  "language_info": {
   "codemirror_mode": {
    "name": "ipython",
    "version": 3
   },
   "file_extension": ".py",
   "mimetype": "text/x-python",
   "name": "python",
   "nbconvert_exporter": "python",
   "pygments_lexer": "ipython3",
   "version": "3.6.6"
  }
 },
 "nbformat": 4,
 "nbformat_minor": 2
}
