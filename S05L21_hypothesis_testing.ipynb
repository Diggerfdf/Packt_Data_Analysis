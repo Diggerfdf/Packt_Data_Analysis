{
 "cells": [
  {
   "cell_type": "code",
   "execution_count": 2,
   "metadata": {},
   "outputs": [
    {
     "data": {
      "text/html": [
       "<style>.container { width:95% !important; }</style>"
      ],
      "text/plain": [
       "<IPython.core.display.HTML object>"
      ]
     },
     "metadata": {},
     "output_type": "display_data"
    }
   ],
   "source": [
    "from IPython.core.display import display, HTML\n",
    "display(HTML(\"<style>.container { width:95% !important; }</style>\"))\n",
    "\n",
    "import pandas as pd\n",
    "import matplotlib.pyplot as plt\n",
    "import seaborn as sns\n",
    "\n",
    "from numpy import sqrt, arange\n",
    "from scipy import stats\n",
    "%matplotlib inline\n",
    "\n",
    "import warnings\n",
    "warnings.filterwarnings('ignore')\n",
    "\n",
    "student = pd.read_csv(\"~/Classes/Packt_Data_Analysis/data/data/student/student.csv\", sep=\";\")\n",
    "\n",
    "student.rename(columns={'sex':'gender'}, inplace=True)\n",
    "student['alcohol_index'] = (5 * student['Dalc'] + 2 * student['Walc'])/7\n",
    "\n",
    "# Alcohol consumption level\n",
    "student['acl'] = student['alcohol_index'] <= 2\n",
    "student['acl'] = student['acl'].map({True: 'Low', False: 'High'})"
   ]
  },
  {
   "cell_type": "markdown",
   "metadata": {},
   "source": [
    "### Null Hypothesis Testing framework\n",
    "\n",
    "**1. Setting up two competing hypotheses** - Each hypothesis test includes two hypothesis about the population.  One is the null hypothesis, notated as Ho, which is a statement of a particular parameter value.  This hypothesis is assumed to be true until there is evidence to suggest otherwise.  The second hypothesis is called the alternative, or research, hypothesis, notated as Ha.  The alternative hypothesis is a statement of a range of alternative values in which the parameter may fall.  One must also check that any assumptions (conditions) needed to run the test have been satisfied e.g. normality of data, independence, and number of success and failure outcomes.\n",
    "\n",
    "**2. Set in advanced some level of significance, called alpha.**  This value is used as a probability cutoff for making decisions about the null hypothesis.  As we will learn later, this alpha value represents the probability we are willing to place on our test for making an incorrect decision in regards to rejecting the null hypothesis.  The most common alpha value is 0.05  or 5%. Other popular choices are 0.01 (1%) and  0.1 (10%).\n",
    "\n",
    "**3. Calculate a test statistic and the p-value (or find rejection region)** Gather sample data and calculate a test statistic where the sample statistic is compared to the parameter value.  The test statistic is calculated under the assumption the null hypothesis is true, and incorporates a measure of standard error and assumptions (conditions) related to the sampling distribution.  Such assumptions could be normality of data, independence, and number of success and failure outcomes. A p-value is found by using the test statistic to calculate the probability of the sample data producing such a test statistic or one more extreme.  The rejection region is found by using alpha to find a critical value; the rejection region is the area that is more extreme than the critical value.\n",
    "\n",
    "**4. Make a test decision about the null hypothesis -**  In this step we decide to either reject the null hypothesis or decide to fail to reject the null hypothesis.  Notice we do not make a decision where we will accept the null hypothesis. \n",
    "\n",
    "**5. State an overall conclusion -** Once we have found the p-value or rejection region, and made a statistical decision about the null hypothesis (i.e. we will reject the null or fail to reject the null).  Following this decision, we want to summarize our results into an overall conclusion for our test."
   ]
  },
  {
   "cell_type": "markdown",
   "metadata": {},
   "source": [
    "<h2>Some Statistical test from <code>scipy.stats</code></h2>\n",
    "\n",
    "* kurtosistest(a[, axis, nan_policy])\tTests whether a dataset has normal kurtosis\n",
    "* normaltest(a[, axis, nan_policy])\tTests whether a sample differs from a normal distribution.\n",
    "* skewtest(a[, axis, nan_policy])\tTests whether the skew is different from the normal distribution.\n",
    "* pearsonr(x, y)\tCalculates a Pearson correlation coefficient and the p-value for testing non-correlation.\n",
    "* ttest_1samp(a, popmean[, axis, nan_policy])\tCalculates the T-test for the mean of ONE group of scores.\n",
    "* ttest_1samp(a, popmean[, axis, nan_policy])\tCalculates the T-test for the mean of ONE group of scores.\n",
    "* ttest_ind(a, b[, axis, equal_var, nan_policy])\tCalculates the T-test for the means of two independent samples of scores.\n",
    "* ttest_ind_from_stats(mean1, std1, nobs1, ...)\tT-test for means of two independent samples from descriptive statistics.\n",
    "* ttest_rel(a, b[, axis, nan_policy])\tCalculates the T-test on TWO RELATED samples of scores, a and b.\n",
    "* kstest(rvs, cdf[, args, N, alternative, mode])\tPerform the Kolmogorov-Smirnov test for goodness of fit.\n",
    "* chisquare(f_obs[, f_exp, ddof, axis])\tCalculates a one-way chi square test.\n",
    "* ansari(x, y)\tPerform the Ansari-Bradley test for equal scale parameters\n",
    "* bartlett(*args)\tPerform Bartlett’s test for equal variances\n",
    "* levene(*args, **kwds)\tPerform Levene test for equal variances.\n",
    "* shapiro(x[, a, reta])\tPerform the Shapiro-Wilk test for normality.\n",
    "* anderson(x[, dist])\tAnderson-Darling test for data coming from a particular distribution\n",
    "* anderson_ksamp(samples[, midrank])\tThe Anderson-Darling test for k-samples.\n"
   ]
  },
  {
   "cell_type": "markdown",
   "metadata": {},
   "source": [
    "## Are the population variances equal in the two groups of students (Low vs. High alcohol consumption)?"
   ]
  },
  {
   "cell_type": "markdown",
   "metadata": {},
   "source": [
    "Let's perform the Bartetts's test whose Null Hypothesis is that the variances are equal. We will use a significance level of 5.0%"
   ]
  },
  {
   "cell_type": "code",
   "execution_count": 3,
   "metadata": {},
   "outputs": [
    {
     "data": {
      "text/plain": [
       "acl\n",
       "High    11.151406\n",
       "Low      9.765917\n",
       "Name: G3, dtype: float64"
      ]
     },
     "execution_count": 3,
     "metadata": {},
     "output_type": "execute_result"
    }
   ],
   "source": [
    "student.groupby('acl')['G3'].var()"
   ]
  },
  {
   "cell_type": "code",
   "execution_count": 4,
   "metadata": {},
   "outputs": [
    {
     "data": {
      "text/plain": [
       "BartlettResult(statistic=1.1025085913378183, pvalue=0.29371623181175127)"
      ]
     },
     "execution_count": 4,
     "metadata": {},
     "output_type": "execute_result"
    }
   ],
   "source": [
    "grades_low_acl = student['G3'][student['acl'] == 'Low']\n",
    "grades_high_acl = student['G3'][student['acl'] == 'High']\n",
    "stats.bartlett(grades_low_acl, grades_high_acl)"
   ]
  },
  {
   "cell_type": "markdown",
   "metadata": {},
   "source": [
    "According to the test we **cannot** reject the Null hypothesis of equal variances, so we will assume that the two groups are samples from a population with the same variances. This nomination will be usefull in our next test."
   ]
  },
  {
   "cell_type": "markdown",
   "metadata": {},
   "source": [
    "## Does alcohol consumption affect academic performance?"
   ]
  },
  {
   "cell_type": "code",
   "execution_count": 5,
   "metadata": {},
   "outputs": [
    {
     "data": {
      "image/png": "[encoded data removed]",
      "text/plain": [
       "<Figure size 1008x288 with 2 Axes>"
      ]
     },
     "metadata": {
      "needs_background": "light"
     },
     "output_type": "display_data"
    }
   ],
   "source": [
    "fig, axes = plt.subplots(1, 2, figsize = (14, 4))\n",
    "sns.boxplot(x = 'acl', y = 'G3', data = student, ax = axes[0])\n",
    "sns.pointplot(x = 'acl', y = 'G3', data = student, ax = axes[1]); "
   ]
  },
  {
   "cell_type": "markdown",
   "metadata": {},
   "source": [
    "The visualizations sugest there is a difference between the means of the final grade of the two groups. Now we will perform a formal statistical test to confirm the hypothesis that students with High alcohol consumption level perform worse than the students with Low alcohol consumption level.\n",
    "\n",
    "> **Null Hypothesis: for both groups (High and Low ACL) the population means of the final grade are equal.**\n",
    "\n",
    ">  **Alternative Hypothesis: The population means of the final grades are different.**\n",
    "\n",
    "A common test to apply in for these cases is the two-sample t-test, which is used to determine if two population means are equal. \n",
    "\n",
    "All statistical tests have assumptions that must be checked for their conclusions to be valid, for these test the assumptions are:\n",
    "\n",
    "1. **Independent samples**: we will assume that the method for collecting the data assured that the answers given by the students are independent.\n",
    "2. **Large enough sample size or observations come from a normally-distributed population**: this assumption is required if we are working with small samples (less than 30), since in the smaller group we have 166 observations we can say that we have a \"large enough\" sample.\n",
    "3. **Variances are equal**\n",
    "\n",
    "In addition this test have two versions: one assuming equal variances and the other assumming unequal variances."
   ]
  },
  {
   "cell_type": "markdown",
   "metadata": {},
   "source": [
    "According to the test we can not reject the Null hypothesis of equal variances, so we will assume that the two samples come from a population with the same population variances. Time to perform our t-test."
   ]
  },
  {
   "cell_type": "code",
   "execution_count": 7,
   "metadata": {},
   "outputs": [
    {
     "data": {
      "text/plain": [
       "Ttest_indResult(statistic=4.621320706949354, pvalue=4.603608830369269e-06)"
      ]
     },
     "execution_count": 7,
     "metadata": {},
     "output_type": "execute_result"
    }
   ],
   "source": [
    "stats. ttest_ind(grades_low_acl, grades_high_acl, equal_var = True)"
   ]
  },
  {
   "cell_type": "markdown",
   "metadata": {},
   "source": [
    "Since we got such a low p-value we can reject the Null hypothesis of equal means for the two groups at a level of significance of 5%."
   ]
  },
  {
   "cell_type": "markdown",
   "metadata": {},
   "source": [
    "> **Conclusion: there is a statistical significant difference between the grades in the two analyzed groups, since the mean for the group with high alcohol consumption is less than the mean of the other group, the results suggest that alcohol consumption has a negative impact on students' academic performance.**"
   ]
  }
 ],
 "metadata": {
  "kernelspec": {
   "display_name": "Python 3",
   "language": "python",
   "name": "python3"
  },
  "language_info": {
   "codemirror_mode": {
    "name": "ipython",
    "version": 3
   },
   "file_extension": ".py",
   "mimetype": "text/x-python",
   "name": "python",
   "nbconvert_exporter": "python",
   "pygments_lexer": "ipython3",
   "version": "3.6.6"
  }
 },
 "nbformat": 4,
 "nbformat_minor": 2
}
